pip install selenium


import csv
from selenium import webdriver
from selenium.webdriver.common.by import By

# Set up the Selenium webdriver with the path to Geckodriver
driver = webdriver.Firefox()

# IMDb URL for the top 100 movies sorted by user rating
url = "https://www.imdb.com/search/title/?count=100&groups=top_1000&sort=user_rating"

# Navigate to the IMDb page
driver.get(url)

# Create a CSV file to save the data
csv_filename = "top_100_movies.csv"
csv_file = open(csv_filename, "w", newline="", encoding="utf-8")
csv_writer = csv.writer(csv_file)
csv_writer.writerow(["Title", "Year", "Rating"])

# Find and extract data for the top 100 movies
movie_elements = driver.find_elements(By.CLASS_NAME, "lister-item")#
for movie_element in movie_elements:
   # title = movie_element.find_element(By.CLASS_NAME, "lister-item-header").text
    title_element = movie_element.find_element(By.CLASS_NAME, "lister-item-header")
    title = title_element.text.split(".", 1)[-1].strip().split('(')[0].strip()
    year = movie_element.find_element(By.CLASS_NAME, "lister-item-year").text.strip('()')
    rating = movie_element.find_element(By.CLASS_NAME, "ratings-imdb-rating").text

    # Write the data to the CSV file
    csv_writer.writerow([title, year, rating])

# Close the CSV file and the webdriver
csv_file.close()
driver.quit()
